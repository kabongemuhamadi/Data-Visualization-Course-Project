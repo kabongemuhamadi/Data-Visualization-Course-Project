{
 "cells": [
  {
   "cell_type": "code",
   "execution_count": 8,
   "metadata": {},
   "outputs": [
    {
     "data": {
      "text/plain": [
       "<matplotlib.collections.PathCollection at 0x1b68835fd48>"
      ]
     },
     "execution_count": 8,
     "metadata": {},
     "output_type": "execute_result"
    },
    {
     "data": {
      "image/png": "[encoded data removed]",
      "text/plain": [
       "<Figure size 432x288 with 3 Axes>"
      ]
     },
     "metadata": {
      "needs_background": "light"
     },
     "output_type": "display_data"
    }
   ],
   "source": [
    "import matplotlib.pyplot as plt\n",
    "import numpy as np\n",
    "\n",
    "from sklearn.datasets import load_boston #only using this import for getting the dataset,\n",
    "\n",
    "\n",
    "boston = load_boston() #function used to retrieve the data set\n",
    "\n",
    "data = boston.data\n",
    "\n",
    "prices=boston.target[:50]\n",
    "\n",
    "fig, ax = plt.subplots(nrows=3,ncols=1)\n",
    "\n",
    "crime_data = data[:,0][:50]\n",
    "avg_rooms = data[:,5][:50]\n",
    "nitrous_oxide = data[:,4][:50]\n",
    "pupil_teacher_ratio = data[:,-4][:50]\n",
    "\n",
    "x = [x for x in range(50)]\n",
    "\n",
    "ax[0].plot()\n",
    "ax[1].plot()\n",
    "ax[2].plot()\n",
    "\n",
    "ax[1].hist(avg_rooms)\n",
    "ax[2].scatter(nitrous_oxide,pupil_teacher_ratio)"
   ]
  },
  {
   "cell_type": "code",
   "execution_count": null,
   "metadata": {},
   "outputs": [],
   "source": []
  }
 ],
 "metadata": {
  "kernelspec": {
   "display_name": "Python 3",
   "language": "python",
   "name": "python3"
  },
  "language_info": {
   "codemirror_mode": {
    "name": "ipython",
    "version": 3
   },
   "file_extension": ".py",
   "mimetype": "text/x-python",
   "name": "python",
   "nbconvert_exporter": "python",
   "pygments_lexer": "ipython3",
   "version": "3.7.4"
  }
 },
 "nbformat": 4,
 "nbformat_minor": 2
}
